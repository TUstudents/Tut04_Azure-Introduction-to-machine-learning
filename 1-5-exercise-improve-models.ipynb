{
  "cells": [
    {
      "cell_type": "markdown",
      "source": [
        "# Exercise: Datasets in Python\n",
        "\n",
        "In the previous exercise, we loaded some data and fit a model to it. Several aspects of this were simplified, particularly that the data was hard-coded into our python script, and we didn't spend any time really looking at the data itself.\n",
        "\n",
        "Here, we'll load data from a file, filter it, and graph it. Doing so is a very important first step in order to build proper models, or to understand their limitations.\n",
        "\n",
        "As before, there's no need to edit any code in the examples in this unit. Try to read it, understand it, then press the **Run** button to run it. As always, it's vitally important that these code blocks are run in the correct order, and nothing is missed.\n",
        "\n",
        "## Load data with Pandas\n",
        "\n",
        "There are large variety of libraries that help you work with data. In Python, one of the most common is _Pandas_. We used pandas briefly in the previous exercise. Pandas can open data saved as text files and store it in an organized table called a `DataFrame`.\n",
        "\n",
        "Let's open some text data that's stored on disk. Our data is saved in a file called `doggy-boot-harness.csv`."
      ],
      "metadata": {}
    },
    {
      "cell_type": "code",
      "source": [
        "import pandas\n",
        "!wget https://raw.githubusercontent.com/MicrosoftDocs/mslearn-introduction-to-machine-learning/main/graphing.py\n",
        "!wget https://raw.githubusercontent.com/MicrosoftDocs/mslearn-introduction-to-machine-learning/main/Data/doggy-boot-harness.csv\n",
        "\n",
        "# Read the text file containing data using pandas\n",
        "dataset = pandas.read_csv('doggy-boot-harness.csv')\n",
        "\n",
        "# Print the data\n",
        "# Because there are a lot of data, use head() to only print the first few rows\n",
        "dataset.head()"
      ],
      "outputs": [
        {
          "output_type": "stream",
          "name": "stdout",
          "text": "--2023-07-18 13:22:45--  https://raw.githubusercontent.com/MicrosoftDocs/mslearn-introduction-to-machine-learning/main/graphing.py\nResolving raw.githubusercontent.com (raw.githubusercontent.com)... 185.199.108.133, 185.199.111.133, 185.199.110.133, ...\nConnecting to raw.githubusercontent.com (raw.githubusercontent.com)|185.199.108.133|:443... connected.\nHTTP request sent, awaiting response... 200 OK\nLength: 21511 (21K) [text/plain]\nSaving to: ‘graphing.py.1’\n\ngraphing.py.1       100%[===================>]  21.01K  --.-KB/s    in 0s      \n\n2023-07-18 13:22:45 (69.7 MB/s) - ‘graphing.py.1’ saved [21511/21511]\n\n--2023-07-18 13:22:46--  https://raw.githubusercontent.com/MicrosoftDocs/mslearn-introduction-to-machine-learning/main/Data/doggy-boot-harness.csv\nResolving raw.githubusercontent.com (raw.githubusercontent.com)... 185.199.108.133, 185.199.111.133, 185.199.110.133, ...\nConnecting to raw.githubusercontent.com (raw.githubusercontent.com)|185.199.108.133|:443... connected.\nHTTP request sent, awaiting response... 200 OK\nLength: 838 [text/plain]\nSaving to: ‘doggy-boot-harness.csv.1’\n\ndoggy-boot-harness. 100%[===================>]     838  --.-KB/s    in 0s      \n\n2023-07-18 13:22:47 (65.0 MB/s) - ‘doggy-boot-harness.csv.1’ saved [838/838]\n\n"
        },
        {
          "output_type": "execute_result",
          "execution_count": 1,
          "data": {
            "text/plain": "   boot_size  harness_size     sex  age_years\n0         39            58    male       12.0\n1         38            58    male        9.6\n2         37            52  female        8.6\n3         39            58    male       10.2\n4         38            57    male        7.8",
            "text/html": "<div>\n<style scoped>\n    .dataframe tbody tr th:only-of-type {\n        vertical-align: middle;\n    }\n\n    .dataframe tbody tr th {\n        vertical-align: top;\n    }\n\n    .dataframe thead th {\n        text-align: right;\n    }\n</style>\n<table border=\"1\" class=\"dataframe\">\n  <thead>\n    <tr style=\"text-align: right;\">\n      <th></th>\n      <th>boot_size</th>\n      <th>harness_size</th>\n      <th>sex</th>\n      <th>age_years</th>\n    </tr>\n  </thead>\n  <tbody>\n    <tr>\n      <th>0</th>\n      <td>39</td>\n      <td>58</td>\n      <td>male</td>\n      <td>12.0</td>\n    </tr>\n    <tr>\n      <th>1</th>\n      <td>38</td>\n      <td>58</td>\n      <td>male</td>\n      <td>9.6</td>\n    </tr>\n    <tr>\n      <th>2</th>\n      <td>37</td>\n      <td>52</td>\n      <td>female</td>\n      <td>8.6</td>\n    </tr>\n    <tr>\n      <th>3</th>\n      <td>39</td>\n      <td>58</td>\n      <td>male</td>\n      <td>10.2</td>\n    </tr>\n    <tr>\n      <th>4</th>\n      <td>38</td>\n      <td>57</td>\n      <td>male</td>\n      <td>7.8</td>\n    </tr>\n  </tbody>\n</table>\n</div>"
          },
          "metadata": {}
        }
      ],
      "execution_count": 1,
      "metadata": {}
    },
    {
      "cell_type": "markdown",
      "source": [
        "As you can see, this dataset contains information about dogs, including their doggy boot size, harness size, sex, and age in years.\n",
        "\n",
        "Data is stored as columns and rows, similar to a table you might see in Excel.\n",
        "\n",
        "## Filter data by Columns\n",
        "\n",
        "Data is easy to filter by columns. We can either type this directly, like `dataset.my_column_name`, or like so: `dataset[\"my_column_name\"]`.\n",
        "\n",
        "We can use this to either extract data, or to delete data.\n",
        "\n",
        "Lets take a look at the harness sizes, and delete the `sex` and `age_years` columns. "
      ],
      "metadata": {}
    },
    {
      "cell_type": "code",
      "source": [
        "\n",
        "# Look at the harness sizes\n",
        "print(\"Harness sizes\")\n",
        "print(dataset.harness_size)\n",
        "\n",
        "# Remove the sex and age-in-years columns.\n",
        "del dataset[\"sex\"]\n",
        "del dataset[\"age_years\"]\n",
        "\n",
        "# Print the column names\n",
        "print(\"\\nAvailable columns after deleting sex and age information:\")\n",
        "print(dataset.columns.values)\n"
      ],
      "outputs": [
        {
          "output_type": "stream",
          "name": "stdout",
          "text": "Harness sizes\n0     58\n1     58\n2     52\n3     58\n4     57\n5     52\n6     55\n7     53\n8     49\n9     54\n10    59\n11    56\n12    53\n13    58\n14    57\n15    58\n16    56\n17    51\n18    50\n19    59\n20    59\n21    59\n22    55\n23    50\n24    55\n25    52\n26    53\n27    54\n28    61\n29    56\n30    55\n31    60\n32    57\n33    56\n34    61\n35    58\n36    53\n37    57\n38    57\n39    55\n40    60\n41    51\n42    52\n43    56\n44    55\n45    57\n46    58\n47    57\n48    51\n49    59\nName: harness_size, dtype: int64\n\nAvailable columns after deleting sex and age information:\n['boot_size' 'harness_size']\n"
        }
      ],
      "execution_count": 2,
      "metadata": {}
    },
    {
      "cell_type": "markdown",
      "source": [
        "\n",
        "## Filter data by Rows\n",
        "\n",
        "We can get data from the top of the table by using the `head()` function, or from the bottom of the table by using the `tail()` function. \n",
        "\n",
        "Both functions make a shallow copy of a section of our dataframe. Here, we're sending these copies to the `print()` function. The head and tail views can also be used for other purposes, such as for use in analyses or graphs."
      ],
      "metadata": {}
    },
    {
      "cell_type": "code",
      "source": [
        "# Print the data at the top of the table\n",
        "print(\"TOP OF TABLE\")\n",
        "print(dataset.head())\n",
        "\n",
        "# print the data at the bottom of the table\n",
        "print(\"\\nBOTTOM OF TABLE\")\n",
        "print(dataset.tail())"
      ],
      "outputs": [
        {
          "output_type": "stream",
          "name": "stdout",
          "text": "TOP OF TABLE\n   boot_size  harness_size\n0         39            58\n1         38            58\n2         37            52\n3         39            58\n4         38            57\n\nBOTTOM OF TABLE\n    boot_size  harness_size\n45         41            57\n46         39            58\n47         39            57\n48         35            51\n49         39            59\n"
        }
      ],
      "execution_count": 3,
      "metadata": {}
    },
    {
      "cell_type": "markdown",
      "source": [
        "We can also filter logically. For example, we can look at data for dogs who have a harness smaller than a size 55.\n",
        "\n",
        "This works by calculating a `True` or `False` value for each row, then keeping only those rows where the value is `True`."
      ],
      "metadata": {}
    },
    {
      "cell_type": "code",
      "source": [
        "# Print how many rows of data we have\n",
        "print(f\"We have {len(dataset)} rows of data\")\n",
        "\n",
        "# Determine whether each avalanche dog's harness size is < 55\n",
        "# This creates a True or False value for each row where True means \n",
        "# they are smaller than 55\n",
        "is_small = dataset.harness_size < 55\n",
        "print(\"\\nWhether the dog's harness was smaller than size 55:\")\n",
        "print(is_small)\n",
        "\n",
        "# Now apply this 'mask' to our data to keep the smaller dogs\n",
        "data_from_small_dogs = dataset[is_small]\n",
        "print(\"\\nData for dogs with harness smaller than size 55:\")\n",
        "print(data_from_small_dogs)\n",
        "\n",
        "# Print the number of small dogs\n",
        "print(f\"\\nNumber of dogs with harness size less than 55: {len(data_from_small_dogs)}\")"
      ],
      "outputs": [],
      "execution_count": null,
      "metadata": {}
    },
    {
      "cell_type": "markdown",
      "source": [
        "This looks like a lot of code, but we can compress the important parts into a single line.\n",
        "\n",
        "Let's do something similar: restrict our data to only those with boot sizes smaller than 40. "
      ],
      "metadata": {}
    },
    {
      "cell_type": "code",
      "source": [
        "# Make a copy of the dataset that only contains dogs with \n",
        "# a boot size below size 40\n",
        "# The call to copy() is optional but can help avoid unexpected\n",
        "# behaviour in more complex scenarios\n",
        "data_smaller_paws = dataset[dataset.boot_size < 40].copy()\n",
        "\n",
        "\n",
        "# Print information about this\n",
        "print(f\"We now have {len(data_smaller_paws)} rows in our dataset. The last few rows are:\")\n",
        "data_smaller_paws.tail()"
      ],
      "outputs": [],
      "execution_count": null,
      "metadata": {}
    },
    {
      "cell_type": "markdown",
      "source": [
        "## Graph Data\n",
        "\n",
        "Graphing data is often the easiest way to understand it. \n",
        "\n",
        "In these exercises, we usually make our graphs using code in a custom file we've created, called `graphing.py`, which you can look at on our github page.\n",
        "\n",
        "Here, we'll practice making a graph without this custom code, however.\n",
        "\n",
        "Lets make a simple graph of harness size versus boot size for our avalanche dogs with smaller feet. "
      ],
      "metadata": {}
    },
    {
      "cell_type": "code",
      "source": [
        "# Load and prepare plotly to create our graphs\n",
        "import plotly.express\n",
        "import graphing # this is a custom file you can find in our code on github\n",
        "\n",
        "# Show a graph of harness size by boot size:\n",
        "plotly.express.scatter(data_smaller_paws, x=\"harness_size\", y=\"boot_size\")"
      ],
      "outputs": [],
      "execution_count": null,
      "metadata": {}
    },
    {
      "cell_type": "markdown",
      "source": [
        "## Create New Columns\n",
        "\n",
        "The preceding graph shows the relationship we want to investigate for our store, but some customers might want harness-size lists in inches, not centimeters. How can we view these harness sizes in imperial units?\n",
        "\n",
        "To do this, we will need to create a new column called `harness_size_imperial` and put that on the X axis instead.\n",
        "\n",
        "Creating new columns uses very similar syntax to what we've seen before."
      ],
      "metadata": {}
    },
    {
      "cell_type": "code",
      "source": [
        "# Convert harness sizes from metric to imperial units \n",
        "# and save the result to a new column\n",
        "data_smaller_paws['harness_size_imperial'] = data_smaller_paws.harness_size / 2.54\n",
        "\n",
        "# Show a graph of harness size in imperial units\n",
        "plotly.express.scatter(data_smaller_paws, x=\"harness_size_imperial\", y=\"boot_size\")"
      ],
      "outputs": [],
      "execution_count": null,
      "metadata": {}
    },
    {
      "cell_type": "markdown",
      "source": [
        "We've now graphed our new column of data (`harness_size_imperial`) against boot size for dogs with small paws.\n",
        "\n",
        "## Summary\n",
        "\n",
        "We've introduced working with data in Python, including:\n",
        "\n",
        "* Opening data from a file into a `DataFrame` (table)\n",
        "* Inspecting the top and bottom of the dataframe\n",
        "* Adding and removing columns of data\n",
        "* Removing rows of data based on criteria\n",
        "* Graphing data to understand trends\n",
        "\n",
        "Learning to work with dataframes can feel tedious or dry, but keep going, because these basic skills are critical to unlocking exciting machine-learning techniques that we'll cover in later modules."
      ],
      "metadata": {}
    }
  ],
  "metadata": {
    "kernel_info": {
      "name": "conda-env-azureml_py38-py"
    },
    "kernelspec": {
      "name": "conda-env-azureml_py38-py",
      "language": "python",
      "display_name": "azureml_py38"
    },
    "language_info": {
      "name": "python",
      "version": "3.8.5",
      "mimetype": "text/x-python",
      "codemirror_mode": {
        "name": "ipython",
        "version": 3
      },
      "pygments_lexer": "ipython3",
      "nbconvert_exporter": "python",
      "file_extension": ".py"
    },
    "nteract": {
      "version": "nteract-front-end@1.0.0"
    },
    "vscode": {
      "interpreter": {
        "hash": "d986dcce87f8efbe64f9555c9767535f3ea76b09442c50f327a793e0b4903fbe"
      }
    }
  },
  "nbformat": 4,
  "nbformat_minor": 2
}