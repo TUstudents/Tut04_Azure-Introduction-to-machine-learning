{
  "cells": [
    {
      "cell_type": "markdown",
      "source": [
        "# Exercise: Supervised learning\r\n",
        "\r\n",
        "Recall our farming scenario, in which we want to look at how January temperatures have changed over time. Now we'll build a model that achieves this by using supervised learning. \r\n",
        "\r\n",
        "With many libraries, we can build a model in only a few lines of code. Here, we'll break down the process into steps so that we can explore how things work.\r\n",
        "\r\n",
        "## Four components\r\n",
        "Recall that there are four key components to supervised learning: the data, the model, the cost function, and the optimizer. Let's inspect these one at a time.\r\n",
        "\r\n",
        "### 1. The data\r\n",
        "\r\n",
        "We'll use publicly available weather data for Seattle. Let's load that and restrict it to January temperatures."
      ],
      "metadata": {},
      "id": "ad27229c-ea1d-493d-8251-a87bb525e82a"
    },
    {
      "cell_type": "code",
      "source": [
        "import pandas\r\n",
        "!wget https://raw.githubusercontent.com/MicrosoftDocs/mslearn-introduction-to-machine-learning/main/graphing.py\r\n",
        "!wget https://raw.githubusercontent.com/MicrosoftDocs/mslearn-introduction-to-machine-learning/main/m0b_optimizer.py\r\n",
        "!wget https://raw.githubusercontent.com/MicrosoftDocs/mslearn-introduction-to-machine-learning/main/Data/seattleWeather_1948-2017.csv\r\n",
        "\r\n",
        "# Load a file that contains weather data for Seattle\r\n",
        "data = pandas.read_csv('seattleWeather_1948-2017.csv', parse_dates=['date'])\r\n",
        "\r\n",
        "# Keep only January temperatures\r\n",
        "data = data[[d.month == 1 for d in data.date]].copy()\r\n",
        "\r\n",
        "\r\n",
        "# Print the first and last few rows\r\n",
        "# Remember that with Jupyter notebooks, the last line of \r\n",
        "# code is automatically printed\r\n",
        "data"
      ],
      "outputs": [],
      "execution_count": null,
      "metadata": {},
      "id": "d8cc6a8b-68c5-41d3-b9f9-6a4d980c785c"
    },
    {
      "cell_type": "markdown",
      "source": [
        "We have data from 1948 to 2017, split across 2,170 rows. \r\n",
        "\r\n",
        "We'll analyze the relationship between `date` and daily minimum temperatures. Let's take a quick look at our data as a graph. \r\n"
      ],
      "metadata": {},
      "id": "38753604-9480-452e-ac2f-1ed1903dc25a"
    },
    {
      "cell_type": "code",
      "source": [
        "import graphing # Custom graphing code. See our GitHub repository for details\r\n",
        "\r\n",
        "# Let's take a quick look at our data\r\n",
        "graphing.scatter_2D(data, label_x=\"date\", label_y=\"min_temperature\", title=\"January Temperatures (°F)\")"
      ],
      "outputs": [],
      "execution_count": null,
      "metadata": {},
      "id": "455e55ec-adfb-4756-b049-f852cc78e3dd"
    },
    {
      "cell_type": "markdown",
      "source": [
        "Machine learning usually works best when the X and Y axes have roughly the same range of values. We'll cover why in later learning material. For now, let's just scale our data slightly."
      ],
      "metadata": {},
      "id": "434613bd-78a0-4efe-bab5-fee849a001ef"
    },
    {
      "cell_type": "code",
      "source": [
        "import numpy as np\r\n",
        "\r\n",
        "# This block of code scales and offsets the data slightly, which helps the training process\r\n",
        "# You don't need to understand this code. We'll cover these concepts in later learning material\r\n",
        "\r\n",
        "# Offset date into number of years since 1982\r\n",
        "data[\"years_since_1982\"] = [(d.year + d.timetuple().tm_yday / 365.25) - 1982 for d in data.date]\r\n",
        "\r\n",
        "# Scale and offset temperature so that it has a smaller range of values\r\n",
        "data[\"normalised_temperature\"] = (data[\"min_temperature\"] - np.mean(data[\"min_temperature\"])) / np.std(data[\"min_temperature\"])\r\n",
        "\r\n",
        "# Graph\r\n",
        "graphing.scatter_2D(data, label_x=\"years_since_1982\", label_y=\"normalised_temperature\", title=\"January Temperatures (Normalised)\")\r\n"
      ],
      "outputs": [],
      "execution_count": null,
      "metadata": {},
      "id": "d5775a7a-ae2b-41f3-874d-24f5eeb6aa26"
    },
    {
      "cell_type": "markdown",
      "source": [
        "### 2. The model\r\n",
        "\r\n",
        "We'll select a simple linear regression model. This model uses a line to make estimates. You might have come across trendlines like these before when making graphs."
      ],
      "metadata": {},
      "id": "308d27a1-a1e9-41e5-b508-57855899fe14"
    },
    {
      "cell_type": "code",
      "source": [
        "class MyModel:\r\n",
        "\r\n",
        "    def __init__(self):\r\n",
        "        '''\r\n",
        "        Creates a new MyModel\r\n",
        "        '''\r\n",
        "        # Straight lines described by two parameters:\r\n",
        "        # The slope is the angle of the line\r\n",
        "        self.slope = 0\r\n",
        "        # The intercept moves the line up or down\r\n",
        "        self.intercept = 0\r\n",
        "\r\n",
        "    def predict(self, date):\r\n",
        "        '''\r\n",
        "        Estimates the temperature from the date\r\n",
        "        '''\r\n",
        "        return date * self.slope + self.intercept\r\n",
        "\r\n",
        "# Create our model ready to be trained\r\n",
        "model = MyModel()\r\n",
        "\r\n",
        "print(\"Model made!\")"
      ],
      "outputs": [],
      "execution_count": null,
      "metadata": {},
      "id": "61cd16cc-2a3b-4951-8dcc-8c97f687042e"
    },
    {
      "cell_type": "markdown",
      "source": [
        "We wouldn't normally use a model before it has been trained, but for the sake of learning, let's take a quick look at it."
      ],
      "metadata": {},
      "id": "16c19df8-90cc-4e45-9c4d-507be8c161d7"
    },
    {
      "cell_type": "code",
      "source": [
        "print(f\"Model parameters before training: {model.intercept}, {model.slope}\")\r\n",
        "\r\n",
        "# Look at how well the model does before training\r\n",
        "print(\"Model visualised before training:\")\r\n",
        "graphing.scatter_2D(data, \"years_since_1982\", \"normalised_temperature\", trendline=model.predict)   "
      ],
      "outputs": [],
      "execution_count": null,
      "metadata": {},
      "id": "7ac7d11d-4dd7-4c32-b7ca-7c91369d7e5d"
    },
    {
      "cell_type": "markdown",
      "source": [
        "You can see that before training, our model (the red line) isn't useful at all. It always simply predicts zero.\r\n",
        "\r\n",
        "### 3. The cost (objective) function\r\n",
        "\r\n",
        "Our next step is to create a _cost function_ (_objective function_).\r\n",
        "\r\n",
        "These functions in supervised learning compare the model's estimate to the correct answer. In our case, our label is temperature, so our cost function will compare the estimated temperature to temperatures seen in the historical records."
      ],
      "metadata": {},
      "id": "af49eafa-09dc-4e22-b1df-ffdabcfec1b4"
    },
    {
      "cell_type": "code",
      "source": [
        "def cost_function(actual_temperatures, estimated_temperatures):\r\n",
        "    '''\r\n",
        "    Calculates the difference between actual and estimated temperatures\r\n",
        "    Returns the difference, and also returns the squared difference (the cost)\r\n",
        "\r\n",
        "    actual_temperatures: One or more temperatures recorded in the past\r\n",
        "    estimated_temperatures: Corresponding temperature(s) estimated by the model\r\n",
        "    '''\r\n",
        "\r\n",
        "    # Calculate the difference between actual temperatures and those\r\n",
        "    # estimated by the model\r\n",
        "    difference = estimated_temperatures - actual_temperatures\r\n",
        "\r\n",
        "    # Convert to a single number that tells us how well the model did\r\n",
        "    # (smaller numbers are better)\r\n",
        "    cost = sum(difference ** 2)\r\n",
        "\r\n",
        "    return difference, cost"
      ],
      "outputs": [],
      "execution_count": null,
      "metadata": {},
      "id": "dd27dcfe-1bc3-4bda-98db-d72ebc4b65de"
    },
    {
      "cell_type": "markdown",
      "source": [
        "### 4. The optimizer\r\n",
        "\r\n",
        "The role of the optimizer is to guess new parameter values for the model. \r\n",
        "\r\n",
        "We haven't covered optimizers in detail yet, so to make things simple, we'll use an prewritten optimizer. You don't need to understand how this works, but if you're curious, you can find it in our GitHub repository. "
      ],
      "metadata": {},
      "id": "3082b63f-eb81-40bc-9dc2-ede6de1575fd"
    },
    {
      "cell_type": "code",
      "source": [
        "from m0b_optimizer import MyOptimizer\r\n",
        "\r\n",
        "# Create an optimizer\r\n",
        "optimizer = MyOptimizer()"
      ],
      "outputs": [],
      "execution_count": null,
      "metadata": {},
      "id": "0cf2a842-6005-43b6-9aed-82b165dab623"
    },
    {
      "cell_type": "markdown",
      "source": [
        "## The training loop\r\n",
        "\r\n",
        "Let's put these components together so that they train the model. \r\n",
        "\r\n",
        "First, let's make a function that performs one iteration of training. Read each step carefully in the following code. If you want, add some `print()` statements inside the method to help you see the training in action."
      ],
      "metadata": {},
      "id": "6b81f508-71d2-4d9e-a315-b79f75368ee1"
    },
    {
      "cell_type": "code",
      "source": [
        "def train_one_iteration(model_inputs, true_temperatures, last_cost:float):\r\n",
        "    '''\r\n",
        "    Runs a single iteration of training.\r\n",
        "\r\n",
        "\r\n",
        "    model_inputs: One or more dates to provide the model (dates)\r\n",
        "    true_temperatues: Corresponding temperatures known to occur on those dates\r\n",
        "\r\n",
        "    Returns:\r\n",
        "        A Boolean, as to whether training should continue\r\n",
        "        The cost calculated (small numbers are better)\r\n",
        "    '''\r\n",
        "\r\n",
        "    # === USE THE MODEL ===\r\n",
        "    # Estimate temperatures for all data that we have\r\n",
        "    estimated_temperatures = model.predict(model_inputs)\r\n",
        "\r\n",
        "    # === OBJECTIVE FUNCTION ===\r\n",
        "    # Calculate how well the model is working\r\n",
        "    # Smaller numbers are better \r\n",
        "    difference, cost = cost_function(true_temperatures, estimated_temperatures)\r\n",
        "\r\n",
        "    # Decide whether to keep training\r\n",
        "    # We'll stop if the training is no longer improving the model effectively\r\n",
        "    if cost >= last_cost:\r\n",
        "        # Stop training\r\n",
        "        return False, cost\r\n",
        "    else:\r\n",
        "        # === OPTIMIZER ===\r\n",
        "        # Calculate updates to parameters\r\n",
        "        intercept_update, slope_update = optimizer.get_parameter_updates(model_inputs, cost, difference)\r\n",
        "\r\n",
        "        # Change the model parameters\r\n",
        "        model.slope += slope_update\r\n",
        "        model.intercept += intercept_update\r\n",
        "\r\n",
        "        return True, cost\r\n",
        "\r\n",
        "print(\"Training method ready\")"
      ],
      "outputs": [],
      "execution_count": null,
      "metadata": {},
      "id": "c301addc-1373-4837-9395-fbcae4c3ef5b"
    },
    {
      "cell_type": "markdown",
      "source": [
        "Let's run a few iterations manually, so that you can watch how training works.\r\n",
        "\r\n",
        "Run the following code several times, and note how the model changes."
      ],
      "metadata": {},
      "id": "df7bca6e-daf7-47d3-b653-9bbde7bd052d"
    },
    {
      "cell_type": "code",
      "source": [
        "import math\r\n",
        "\r\n",
        "print(f\"Model parameters before training:\\t\\t{model.intercept:.8f},\\t{model.slope:.8f}\")\r\n",
        "\r\n",
        "continue_loop, cost = train_one_iteration(model_inputs = data[\"years_since_1982\"],\r\n",
        "                                                    true_temperatures = data[\"normalised_temperature\"],\r\n",
        "                                                    last_cost = math.inf)\r\n",
        "\r\n",
        "print(f\"Model parameters after 1 iteration of training:\\t{model.intercept:.8f},\\t{model.slope:.8f}\")\r\n"
      ],
      "outputs": [],
      "execution_count": null,
      "metadata": {},
      "id": "d811ee5b-55c0-44b9-92b9-6d3226730a84"
    },
    {
      "cell_type": "markdown",
      "source": [
        "It will take thousands of iterations to train the model well, so let's wrap it in a loop."
      ],
      "metadata": {},
      "id": "f50e50ce-a533-43f3-b0d8-39a81c95e8c9"
    },
    {
      "cell_type": "code",
      "source": [
        "\r\n",
        "# Start the loop\r\n",
        "print(\"Training beginning...\")\r\n",
        "last_cost = math.inf\r\n",
        "i = 0\r\n",
        "continue_loop = True\r\n",
        "while continue_loop:\r\n",
        "\r\n",
        "    # Run one iteration of training\r\n",
        "    # This will tell us whether to stop training, and also what\r\n",
        "    # the cost was for this iteration\r\n",
        "    continue_loop, last_cost = train_one_iteration(model_inputs = data[\"years_since_1982\"],\r\n",
        "                                                    true_temperatures = data[\"normalised_temperature\"],\r\n",
        "                                                    last_cost = last_cost)\r\n",
        "   \r\n",
        "    # Print the status\r\n",
        "    if i % 400 == 0:\r\n",
        "        print(\"Iteration:\", i)\r\n",
        "\r\n",
        "    i += 1\r\n",
        "\r\n",
        "    \r\n",
        "print(\"Training complete!\")\r\n",
        "print(f\"Model parameters after training:\\t{model.intercept:.8f},\\t{model.slope:.8f}\")\r\n",
        "graphing.scatter_2D(data, \"years_since_1982\", \"normalised_temperature\", trendline=model.predict)    "
      ],
      "outputs": [],
      "execution_count": null,
      "metadata": {
        "tags": []
      },
      "id": "c039035f-7fbb-476d-90db-e5b72fe37768"
    },
    {
      "cell_type": "markdown",
      "source": [
        "Notice how now the model is trained. It's giving more sensible predictions about January temperatures.\r\n",
        "\r\n",
        "Interestingly, the model shows temperatures going up over time. Perhaps we need to stop feeding grain to our elk earlier in the year!\r\n",
        "\r\n",
        "## Summary\r\n",
        "\r\n",
        "In this exercise, we split up supervised learning into its individual stages to see what's going on in code when we use third-party libraries. The important point to take away is how these pieces fit together. Note that most parts of this process require data."
      ],
      "metadata": {},
      "id": "94902cef-45fe-4247-94ae-e448dc4aa655"
    }
  ],
  "metadata": {
    "kernelspec": {
      "name": "conda-env-azureml_py38-py",
      "language": "python",
      "display_name": "azureml_py38"
    },
    "language_info": {
      "name": "python",
      "version": "3.7.9",
      "mimetype": "text/x-python",
      "codemirror_mode": {
        "name": "ipython",
        "version": 3
      },
      "pygments_lexer": "ipython3",
      "nbconvert_exporter": "python",
      "file_extension": ".py"
    },
    "kernel_info": {
      "name": "conda-env-azureml_py38-py"
    },
    "nteract": {
      "version": "nteract-front-end@1.0.0"
    }
  },
  "nbformat": 4,
  "nbformat_minor": 5
}